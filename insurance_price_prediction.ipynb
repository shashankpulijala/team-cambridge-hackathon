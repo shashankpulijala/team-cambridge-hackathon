{
 "cells": [
  {
   "cell_type": "code",
   "execution_count": 13,
   "id": "173a9041",
   "metadata": {},
   "outputs": [],
   "source": [
    "def indent_code(lines):\n",
    "    \"\"\"\n",
    "    Process the lines of code to ensure proper indentation, particularly for nested if-else conditions.\n",
    "    \"\"\"\n",
    "    indented_code = []\n",
    "    indent_level = 0\n",
    "    indent_size = 4  # Number of spaces for each indentation level\n",
    "\n",
    "    for line in lines:\n",
    "        stripped_line = line.strip()\n",
    "\n",
    "        # Adjust the indent level before the current line if it ends with a colon\n",
    "        if stripped_line.endswith(':') and not stripped_line.startswith('#'):\n",
    "            indented_code.append(' ' * (indent_level * indent_size) + stripped_line)\n",
    "            indent_level += 1\n",
    "        else:\n",
    "            # If the line starts with 'elif', 'else', 'except', or 'finally', it should have the same indent level as the previous block\n",
    "            if stripped_line.startswith(('elif', 'else', 'except', 'finally')):\n",
    "                indent_level -= 1\n",
    "            indented_code.append(' ' * (indent_level * indent_size) + stripped_line)\n",
    "\n",
    "            # If the current line is a return, break, continue, pass, or raise, decrease the indent level after it\n",
    "            if stripped_line.startswith(('return', 'break', 'continue', 'pass', 'raise')) and indent_level > 0:\n",
    "                indent_level -= 1\n",
    "\n",
    "            # If the line ends with a colon, it indicates the start of a new block, so increase the indent level\n",
    "            if stripped_line.endswith(':') and not stripped_line.startswith('#'):\n",
    "                indent_level += 1\n",
    "\n",
    "    return indented_code\n",
    "\n",
    "def read_file(file_path):\n",
    "    \"\"\"\n",
    "    Read lines from a text file.\n",
    "    \"\"\"\n",
    "    with open(file_path, 'r') as file:\n",
    "        lines = file.readlines()\n",
    "    return lines\n",
    "\n",
    "def write_file(file_path, lines):\n",
    "    \"\"\"\n",
    "    Write lines to a text file.\n",
    "    \"\"\"\n",
    "    with open(file_path, 'w') as file:\n",
    "        file.writelines(line + '\\n' for line in lines)\n",
    "\n",
    "def main(input_file, output_file):\n",
    "    # Read the input file\n",
    "    lines = read_file(input_file)\n",
    "    \n",
    "    # Indent the code properly\n",
    "    indented_lines = indent_code(lines)\n",
    "    \n",
    "    # Write the indented code to the output file\n",
    "    write_file(output_file, indented_lines)\n",
    "\n",
    "# Example usage\n",
    "input_file = 'formatted_conditions2.txt'\n",
    "output_file = 'formatted_conditions_3.txt'\n",
    "main(input_file, output_file)\n"
   ]
  },
  {
   "cell_type": "code",
   "execution_count": 9,
   "id": "e3202007",
   "metadata": {},
   "outputs": [
    {
     "data": {
      "text/plain": [
       "'output.py'"
      ]
     },
     "execution_count": 9,
     "metadata": {},
     "output_type": "execute_result"
    }
   ],
   "source": [
    "output_file"
   ]
  },
  {
   "cell_type": "code",
   "execution_count": 14,
   "id": "1a3cf5de",
   "metadata": {},
   "outputs": [
    {
     "name": "stdout",
     "output_type": "stream",
     "text": [
      "Collecting streamlit"
     ]
    },
    {
     "name": "stderr",
     "output_type": "stream",
     "text": [
      "ERROR: pip's dependency resolver does not currently take into account all the packages that are installed. This behaviour is the source of the following dependency conflicts.\n",
      "spyder 5.1.5 requires pyqt5<5.13, which is not installed.\n",
      "spyder 5.1.5 requires pyqtwebengine<5.13, which is not installed.\n",
      "jupyter-server 1.13.5 requires pywinpty<2; os_name == \"nt\", but you have pywinpty 2.0.2 which is incompatible.\n"
     ]
    },
    {
     "name": "stdout",
     "output_type": "stream",
     "text": [
      "\n",
      "  Downloading streamlit-1.35.0-py2.py3-none-any.whl (8.6 MB)\n",
      "Requirement already satisfied: cachetools<6,>=4.0 in c:\\users\\shashank\\anaconda3\\lib\\site-packages (from streamlit) (4.2.2)\n",
      "Requirement already satisfied: pyarrow>=7.0 in c:\\users\\shashank\\anaconda3\\lib\\site-packages (from streamlit) (11.0.0)\n",
      "Collecting pydeck<1,>=0.8.0b4\n",
      "  Downloading pydeck-0.9.1-py2.py3-none-any.whl (6.9 MB)\n",
      "Requirement already satisfied: numpy<2,>=1.19.3 in c:\\users\\shashank\\anaconda3\\lib\\site-packages (from streamlit) (1.21.0)\n",
      "Requirement already satisfied: watchdog>=2.1.5 in c:\\users\\shashank\\anaconda3\\lib\\site-packages (from streamlit) (4.0.0)\n",
      "Requirement already satisfied: click<9,>=7.0 in c:\\users\\shashank\\anaconda3\\lib\\site-packages (from streamlit) (8.1.7)\n",
      "Collecting rich<14,>=10.14.0\n",
      "  Downloading rich-13.7.1-py3-none-any.whl (240 kB)\n",
      "Requirement already satisfied: pillow<11,>=7.1.0 in c:\\users\\shashank\\anaconda3\\lib\\site-packages (from streamlit) (9.0.1)\n",
      "Requirement already satisfied: blinker<2,>=1.0.0 in c:\\users\\shashank\\anaconda3\\lib\\site-packages (from streamlit) (1.7.0)\n",
      "Requirement already satisfied: protobuf<5,>=3.20 in c:\\users\\shashank\\anaconda3\\lib\\site-packages (from streamlit) (4.22.1)\n",
      "Requirement already satisfied: packaging<25,>=16.8 in c:\\users\\shashank\\anaconda3\\lib\\site-packages (from streamlit) (21.3)\n",
      "Requirement already satisfied: tornado<7,>=6.0.3 in c:\\users\\shashank\\anaconda3\\lib\\site-packages (from streamlit) (6.1)\n",
      "Collecting altair<6,>=4.0\n",
      "  Downloading altair-5.3.0-py3-none-any.whl (857 kB)\n",
      "Requirement already satisfied: typing-extensions<5,>=4.3.0 in c:\\users\\shashank\\anaconda3\\lib\\site-packages (from streamlit) (4.9.0)\n",
      "Requirement already satisfied: toml<2,>=0.10.1 in c:\\users\\shashank\\anaconda3\\lib\\site-packages (from streamlit) (0.10.2)\n",
      "Requirement already satisfied: requests<3,>=2.27 in c:\\users\\shashank\\anaconda3\\lib\\site-packages (from streamlit) (2.27.1)\n",
      "Requirement already satisfied: pandas<3,>=1.3.0 in c:\\users\\shashank\\anaconda3\\lib\\site-packages (from streamlit) (2.0.0)\n",
      "Collecting tenacity<9,>=8.1.0\n",
      "  Downloading tenacity-8.3.0-py3-none-any.whl (25 kB)\n",
      "Requirement already satisfied: gitpython!=3.1.19,<4,>=3.0.7 in c:\\users\\shashank\\anaconda3\\lib\\site-packages (from streamlit) (3.1.31)\n",
      "Requirement already satisfied: jinja2 in c:\\users\\shashank\\anaconda3\\lib\\site-packages (from altair<6,>=4.0->streamlit) (3.1.2)\n",
      "Requirement already satisfied: toolz in c:\\users\\shashank\\anaconda3\\lib\\site-packages (from altair<6,>=4.0->streamlit) (0.11.2)\n",
      "Requirement already satisfied: jsonschema>=3.0 in c:\\users\\shashank\\anaconda3\\lib\\site-packages (from altair<6,>=4.0->streamlit) (4.4.0)\n",
      "Requirement already satisfied: colorama in c:\\users\\shashank\\anaconda3\\lib\\site-packages (from click<9,>=7.0->streamlit) (0.4.4)\n",
      "Requirement already satisfied: gitdb<5,>=4.0.1 in c:\\users\\shashank\\anaconda3\\lib\\site-packages (from gitpython!=3.1.19,<4,>=3.0.7->streamlit) (4.0.10)\n",
      "Requirement already satisfied: smmap<6,>=3.0.1 in c:\\users\\shashank\\anaconda3\\lib\\site-packages (from gitdb<5,>=4.0.1->gitpython!=3.1.19,<4,>=3.0.7->streamlit) (5.0.0)\n",
      "Requirement already satisfied: pyrsistent!=0.17.0,!=0.17.1,!=0.17.2,>=0.14.0 in c:\\users\\shashank\\anaconda3\\lib\\site-packages (from jsonschema>=3.0->altair<6,>=4.0->streamlit) (0.18.0)\n",
      "Requirement already satisfied: attrs>=17.4.0 in c:\\users\\shashank\\anaconda3\\lib\\site-packages (from jsonschema>=3.0->altair<6,>=4.0->streamlit) (21.4.0)\n",
      "Requirement already satisfied: pyparsing!=3.0.5,>=2.0.2 in c:\\users\\shashank\\anaconda3\\lib\\site-packages (from packaging<25,>=16.8->streamlit) (3.0.4)\n",
      "Requirement already satisfied: tzdata>=2022.1 in c:\\users\\shashank\\anaconda3\\lib\\site-packages (from pandas<3,>=1.3.0->streamlit) (2023.3)\n",
      "Requirement already satisfied: pytz>=2020.1 in c:\\users\\shashank\\anaconda3\\lib\\site-packages (from pandas<3,>=1.3.0->streamlit) (2021.3)\n",
      "Requirement already satisfied: python-dateutil>=2.8.2 in c:\\users\\shashank\\anaconda3\\lib\\site-packages (from pandas<3,>=1.3.0->streamlit) (2.8.2)\n",
      "Requirement already satisfied: MarkupSafe>=2.0 in c:\\users\\shashank\\anaconda3\\lib\\site-packages (from jinja2->altair<6,>=4.0->streamlit) (2.1.5)\n",
      "Requirement already satisfied: six>=1.5 in c:\\users\\shashank\\anaconda3\\lib\\site-packages (from python-dateutil>=2.8.2->pandas<3,>=1.3.0->streamlit) (1.16.0)\n",
      "Requirement already satisfied: certifi>=2017.4.17 in c:\\users\\shashank\\anaconda3\\lib\\site-packages (from requests<3,>=2.27->streamlit) (2021.10.8)\n",
      "Requirement already satisfied: idna<4,>=2.5 in c:\\users\\shashank\\anaconda3\\lib\\site-packages (from requests<3,>=2.27->streamlit) (3.3)\n",
      "Requirement already satisfied: urllib3<1.27,>=1.21.1 in c:\\users\\shashank\\anaconda3\\lib\\site-packages (from requests<3,>=2.27->streamlit) (1.26.9)\n",
      "Requirement already satisfied: charset-normalizer~=2.0.0 in c:\\users\\shashank\\anaconda3\\lib\\site-packages (from requests<3,>=2.27->streamlit) (2.0.4)\n",
      "Collecting pygments<3.0.0,>=2.13.0\n",
      "  Downloading pygments-2.18.0-py3-none-any.whl (1.2 MB)\n",
      "Collecting markdown-it-py>=2.2.0\n",
      "  Downloading markdown_it_py-3.0.0-py3-none-any.whl (87 kB)\n",
      "Collecting mdurl~=0.1\n",
      "  Downloading mdurl-0.1.2-py3-none-any.whl (10.0 kB)\n",
      "Installing collected packages: mdurl, pygments, markdown-it-py, tenacity, rich, pydeck, altair, streamlit\n",
      "  Attempting uninstall: pygments\n",
      "    Found existing installation: Pygments 2.11.2\n",
      "    Uninstalling Pygments-2.11.2:\n",
      "      Successfully uninstalled Pygments-2.11.2\n",
      "  Attempting uninstall: tenacity\n",
      "    Found existing installation: tenacity 8.0.1\n",
      "    Uninstalling tenacity-8.0.1:\n",
      "      Successfully uninstalled tenacity-8.0.1\n",
      "Successfully installed altair-5.3.0 markdown-it-py-3.0.0 mdurl-0.1.2 pydeck-0.9.1 pygments-2.18.0 rich-13.7.1 streamlit-1.35.0 tenacity-8.3.0\n"
     ]
    }
   ],
   "source": [
    "!pip install streamlit\n"
   ]
  },
  {
   "cell_type": "code",
   "execution_count": 15,
   "id": "e8042446",
   "metadata": {},
   "outputs": [],
   "source": [
    "import streamlit as st"
   ]
  },
  {
   "cell_type": "code",
   "execution_count": 16,
   "id": "210adb56",
   "metadata": {},
   "outputs": [
    {
     "name": "stderr",
     "output_type": "stream",
     "text": [
      "2024-06-12 17:12:45.752 \n",
      "  \u001b[33m\u001b[1mWarning:\u001b[0m to view this Streamlit app on a browser, run it with the following\n",
      "  command:\n",
      "\n",
      "    streamlit run C:\\Users\\Shashank\\anaconda3\\lib\\site-packages\\ipykernel_launcher.py [ARGUMENTS]\n"
     ]
    },
    {
     "data": {
      "text/plain": [
       "DeltaGenerator()"
      ]
     },
     "execution_count": 16,
     "metadata": {},
     "output_type": "execute_result"
    }
   ],
   "source": [
    "st.title(\"Hello World\")"
   ]
  },
  {
   "cell_type": "code",
   "execution_count": null,
   "id": "bb2b9012",
   "metadata": {},
   "outputs": [],
   "source": []
  }
 ],
 "metadata": {
  "kernelspec": {
   "display_name": "Python 3 (ipykernel)",
   "language": "python",
   "name": "python3"
  },
  "language_info": {
   "codemirror_mode": {
    "name": "ipython",
    "version": 3
   },
   "file_extension": ".py",
   "mimetype": "text/x-python",
   "name": "python",
   "nbconvert_exporter": "python",
   "pygments_lexer": "ipython3",
   "version": "3.9.12"
  }
 },
 "nbformat": 4,
 "nbformat_minor": 5
}
